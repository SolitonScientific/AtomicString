{
 "cells": [
  {
   "cell_type": "code",
   "execution_count": null,
   "metadata": {},
   "outputs": [],
   "source": [
    "# %load CommonFunctions.py\n",
    "# # COMMON ATOMIC AND ASTRING FUNCTIONS\n",
    "# In[14]:\n",
    "\n",
    "############### One String Pulse with width, shift and scale #############\n",
    "def StringPulse(String1, t: float, a = 1., b = 0., c = 1., d = 0.) -> float:\n",
    "    x = (t - b)/a\n",
    "    if (x < -1):\n",
    "        res = -0.5\n",
    "    elif (x > 1):\n",
    "        res = 0.5\n",
    "    else:\n",
    "        res = String1(x)\n",
    "    res = d + res * c\n",
    "    return res\n",
    "\n",
    "\n",
    "# In[16]:\n",
    "###### Atomic String Applied to list with width, shift and scale #############\n",
    "def String(String1, x: list, a = 1., b = 0., c = 1., d = 0.) -> list:\n",
    "    res = []\n",
    "    for i in range(len(x)):\n",
    "        res.append(StringPulse(String1, x[i], a, b, c, d))\n",
    "    return res\n",
    "\n",
    "\n",
    "# In[17]:\n",
    "###### Summation of two lists #############\n",
    "def Sum(x1: list, x2: list) -> list:\n",
    "    res = []\n",
    "    for i in range(len(x1)):\n",
    "        res.append(x1[i] + x2[i])\n",
    "    return res\n",
    "\n",
    "# In[18]:\n",
    "##########################################################\n",
    "##This script introduces Atomic Function \n",
    "################### One Pulse of atomic function\n",
    "def up1(x: float) -> float:\n",
    "    #Atomic function table\n",
    "    up_y = [0.5, 0.48, 0.460000017,0.440000421,0.420003478,0.400016184, 0.380053256, 0.360139056, 0.340308139, 0.320605107,\n",
    "           0.301083436, 0.281802850, 0.262826445, 0.244218000, 0.226041554, 0.208361009, 0.191239338, 0.174736305, \n",
    "           0.158905389, 0.143991189, 0.129427260, 0.115840866, 0.103044024, 0.9110444278e-01, 0.798444445e-01, 0.694444445e-01, \n",
    "           0.598444445e-01, 0.510444877e-01, 0.430440239e-01, 0.358409663e-01, 0.294282603e-01, 0.237911889e-01, 0.189053889e-01, \n",
    "           0.147363055e-01, 0.112393379e-01, 0.836100883e-02, 0.604155412e-02, 0.421800000e-02, 0.282644445e-02, 0.180999032e-02, \n",
    "           0.108343562e-02, 0.605106267e-03, 0.308138660e-03, 0.139055523e-03, 0.532555251e-04, 0.161841328e-04, 0.347816874e-05, \n",
    "           0.420576116e-05, 0.167693347e-07, 0.354008603e-10, 0]\n",
    "    up_x = np.arange(0.5, 1.01, 0.01)\n",
    "\n",
    "    res = 0.\n",
    "    if ((x >= 0.5) and (x <= 1)):\n",
    "        for i in range(len(up_x) - 1):\n",
    "            if (up_x[i] >= x) and (x < up_x[i+1]):\n",
    "                N1 = 1 - (x - up_x[i])/0.01\n",
    "                res = N1 * up_y[i] + (1 - N1) * up_y[i+1]\n",
    "                return res\n",
    "    return res\n",
    "\n",
    "\n",
    "# In[19]:\n",
    "############### Atomic Function Pulse with width, shift and scale #############\n",
    "def pulse(up1, t = 0., a = 1., b = 0., c = 1., d = 0.) -> float:\n",
    "    x = (t - b)/a\n",
    "    res = 0.\n",
    "    if (x >= 0.5) and (x <= 1):\n",
    "        res = up1(x)\n",
    "    elif (x >= 0.0) and (x < 0.5):\n",
    "        res = 1 - up1(1 - x)\n",
    "    elif (x >= -1 and x <= -0.5):\n",
    "        res = up1(-x)\n",
    "    elif (x > -0.5) and (x < 0):\n",
    "        res = 1 - up1(1 + x)\n",
    "    res = d + res * c\n",
    "    return res\n",
    "\n",
    "############### Atomic Function Applied to list with width, shift and scale #############\n",
    "def up(up1, x: list, a = 1., b = 0., c = 1., d = 0.) -> list:\n",
    "    res = []\n",
    "    for i in range(len(x)):\n",
    "        res.append(pulse(up1, x[i], a, b, c, d))\n",
    "    return res\n",
    "\n",
    "############### Atomic String #############\n",
    "def AString1(x: float) -> float:\n",
    "    res = 1 * (pulse(up1, x/2.0 - 0.5) - 0.5)\n",
    "    return res\n",
    "\n",
    "############### Atomic String Pulse with width, shift and scale #############\n",
    "def AStringPulse(t: float, a = 1., b = 0., c = 1., d = 0.) -> float:\n",
    "    x = (t - b)/a\n",
    "    if (x < -1):\n",
    "        res = -0.5\n",
    "    elif (x > 1):\n",
    "        res = 0.5\n",
    "    else:\n",
    "        res = AString1(x)\n",
    "    res = d + res * c\n",
    "    return res\n",
    "\n",
    "###### Atomic String Applied to list with width, shift and scale #############\n",
    "def AString(x: list, a = 1., b = 0., c = 1., d = 0.) -> list:\n",
    "    res = []\n",
    "    for i in range(len(x)):\n",
    "        res.append(AStringPulse(x[i], a, b, c, d))\n",
    "    return res"
   ]
  },
  {
   "cell_type": "code",
   "execution_count": null,
   "metadata": {},
   "outputs": [],
   "source": [
    "############### Fabius Function #############\n",
    "def Fabius1(x: float) -> float:\n",
    "    res = AString1(2*x)\n",
    "    return res"
   ]
  },
  {
   "cell_type": "code",
   "execution_count": null,
   "metadata": {},
   "outputs": [],
   "source": [
    "import numpy as np\n",
    "import pylab as pl"
   ]
  },
  {
   "cell_type": "code",
   "execution_count": null,
   "metadata": {},
   "outputs": [],
   "source": [
    "x = np.arange(-2.0, 2.0, 0.01)"
   ]
  },
  {
   "cell_type": "code",
   "execution_count": null,
   "metadata": {},
   "outputs": [],
   "source": [
    "pl.title('Atomic Function')\n",
    "pl.plot(x, up(up1, x), label='Atomic Function')\n",
    "pl.grid(True)\n",
    "pl.show()"
   ]
  },
  {
   "cell_type": "code",
   "execution_count": null,
   "metadata": {},
   "outputs": [],
   "source": [
    "pl.title('Atomic String')\n",
    "pl.plot(x, String(AString1, x, 1.0, 0, 1, 0), label='Atomic String')\n",
    "pl.grid(True)\n",
    "pl.show()"
   ]
  },
  {
   "cell_type": "code",
   "execution_count": 1,
   "metadata": {},
   "outputs": [
    {
     "ename": "NameError",
     "evalue": "name 'np' is not defined",
     "output_type": "error",
     "traceback": [
      "\u001b[1;31m---------------------------------------------------------------------------\u001b[0m",
      "\u001b[1;31mNameError\u001b[0m                                 Traceback (most recent call last)",
      "\u001b[1;32m<ipython-input-1-d9bc6c293adb>\u001b[0m in \u001b[0;36m<module>\u001b[1;34m\u001b[0m\n\u001b[1;32m----> 1\u001b[1;33m \u001b[0mx\u001b[0m \u001b[1;33m=\u001b[0m \u001b[0mnp\u001b[0m\u001b[1;33m.\u001b[0m\u001b[0marange\u001b[0m\u001b[1;33m(\u001b[0m\u001b[1;36m0\u001b[0m\u001b[1;33m,\u001b[0m \u001b[1;36m1.0\u001b[0m\u001b[1;33m,\u001b[0m \u001b[1;36m0.01\u001b[0m\u001b[1;33m)\u001b[0m\u001b[1;33m\u001b[0m\u001b[1;33m\u001b[0m\u001b[0m\n\u001b[0m\u001b[0;32m      2\u001b[0m \u001b[0mpl\u001b[0m\u001b[1;33m.\u001b[0m\u001b[0mtitle\u001b[0m\u001b[1;33m(\u001b[0m\u001b[1;34m'Fabius Function'\u001b[0m\u001b[1;33m)\u001b[0m\u001b[1;33m\u001b[0m\u001b[1;33m\u001b[0m\u001b[0m\n\u001b[0;32m      3\u001b[0m \u001b[0mpl\u001b[0m\u001b[1;33m.\u001b[0m\u001b[0mplot\u001b[0m\u001b[1;33m(\u001b[0m\u001b[0mx\u001b[0m\u001b[1;33m,\u001b[0m \u001b[0mAString1\u001b[0m\u001b[1;33m(\u001b[0m\u001b[0mx\u001b[0m\u001b[1;33m,\u001b[0m \u001b[1;36m0.5\u001b[0m\u001b[1;33m,\u001b[0m \u001b[1;36m0.5\u001b[0m\u001b[1;33m,\u001b[0m \u001b[1;36m1\u001b[0m\u001b[1;33m,\u001b[0m \u001b[1;36m0.5\u001b[0m\u001b[1;33m)\u001b[0m\u001b[1;33m,\u001b[0m \u001b[0mlabel\u001b[0m\u001b[1;33m=\u001b[0m\u001b[1;34m'Fabius Function'\u001b[0m\u001b[1;33m)\u001b[0m\u001b[1;33m\u001b[0m\u001b[1;33m\u001b[0m\u001b[0m\n\u001b[0;32m      4\u001b[0m \u001b[0mpl\u001b[0m\u001b[1;33m.\u001b[0m\u001b[0mgrid\u001b[0m\u001b[1;33m(\u001b[0m\u001b[1;32mTrue\u001b[0m\u001b[1;33m)\u001b[0m\u001b[1;33m\u001b[0m\u001b[1;33m\u001b[0m\u001b[0m\n\u001b[0;32m      5\u001b[0m \u001b[0mpl\u001b[0m\u001b[1;33m.\u001b[0m\u001b[0mshow\u001b[0m\u001b[1;33m(\u001b[0m\u001b[1;33m)\u001b[0m\u001b[1;33m\u001b[0m\u001b[1;33m\u001b[0m\u001b[0m\n",
      "\u001b[1;31mNameError\u001b[0m: name 'np' is not defined"
     ]
    }
   ],
   "source": [
    "x = np.arange(0, 1.0, 0.01)\n",
    "pl.title('Fabius Function')\n",
    "pl.plot(x, AString1(x, 0.5, 0.5, 1, 0.5), label='Fabius Function')\n",
    "pl.grid(True)\n",
    "pl.show()"
   ]
  },
  {
   "cell_type": "markdown",
   "metadata": {},
   "source": [
    "## AStrings Compounding"
   ]
  },
  {
   "cell_type": "code",
   "execution_count": null,
   "metadata": {},
   "outputs": [],
   "source": [
    "x = np.arange(-3.0, 3.0, 0.01)\n",
    "width = 1.\n",
    "height = 1.\n",
    "pl.plot(x, up(up1, x, width, -1*width, height), linewidth=1, label='Atomic Function at x=-1')\n",
    "pl.plot(x, up(up1, x, width, +0*width, height), linewidth=1, label='Atomic Function at x=0')\n",
    "pl.plot(x, up(up1, x, width, +1*width, height), linewidth=1, label='Atomic Function at x=+1')\n",
    "pl.plot(x, Sum(up(up1, x, width, -1*width, height), Sum(up(up1, x, width, 0*width, height), up(up1, x, width, 1*width, height))), \n",
    "        linewidth=2, label='Atomic Function Compounding')\n",
    "pl.title('Atomic Function Compounding represent 1')\n",
    "pl.legend(loc='best', numpoints=1)\n",
    "pl.grid(True)\n",
    "pl.show()"
   ]
  },
  {
   "cell_type": "code",
   "execution_count": null,
   "metadata": {},
   "outputs": [],
   "source": [
    "x = np.arange(-3.0, 3.0, 0.01)\n",
    "width = 1.\n",
    "height = 1.\n",
    "pl.plot(x, AString(x, width, -1*width, height), linewidth=1, label='Atomic String at x=-1')\n",
    "pl.plot(x, AString(x, width, +0*width, height), linewidth=1, label='Atomic String at x=0')\n",
    "pl.plot(x, AString(x, width, +1*width, height), linewidth=1, label='Atomic String at x=+1')\n",
    "pl.plot(x, Sum(AString(x, width, -1*width, height), Sum(AString(x, width, 0*width, height), AString(x, width, 1*width, height))), \n",
    "        linewidth=2, label='Atomic Strings Compounding')\n",
    "pl.title('Atomic Strings Compounding represent 1')\n",
    "pl.legend(loc='best', numpoints=1)\n",
    "pl.grid(True)\n",
    "pl.show()"
   ]
  },
  {
   "cell_type": "markdown",
   "metadata": {},
   "source": [
    "## Representing Polynomials"
   ]
  },
  {
   "cell_type": "markdown",
   "metadata": {},
   "source": [
    "### Straight Line"
   ]
  },
  {
   "cell_type": "code",
   "execution_count": null,
   "metadata": {},
   "outputs": [],
   "source": [
    "x = np.arange(-3.0, 3.0, 0.01)\n",
    "a = 1.\n",
    "c = 0.25\n",
    "b = 1.\n",
    "\n",
    "pl.plot(x, up(up1, x, -a, -1.*b/2, -c*1), linewidth=1, label='AF at 1b/2, c*1')\n",
    "pl.plot(x, up(up1, x, -a, -2.*b/2, -c*2), linewidth=1, label='AF at 2b/2, c*2')\n",
    "pl.plot(x, up(up1, x, -a, -3.*b/2, -c*3), linewidth=1, label='AF at 3b/2, c*3')\n",
    "\n",
    "pl.plot(x, up(up1, x, a, 1.*b/2, c*1), linewidth=1, label='AF at 1b/2, c*1')\n",
    "pl.plot(x, up(up1, x, a, 2.*b/2, c*2), linewidth=1, label='AF at 2b/2, c*2')\n",
    "pl.plot(x, up(up1, x, a, 3.*b/2, c*3), linewidth=1, label='AF at 3b/2, c*3')\n",
    "\n",
    "pl.plot(x,\n",
    "        Sum(\n",
    "            Sum(up(up1, x, a, 1.*b/2, c*1), Sum(up(up1, x, a, 2.*b/2, c*2), up(up1, x, a, 3.*b/2, c*3))),\n",
    "            Sum(up(up1, x, -a, -1.*b/2, -c*1), Sum(up(up1, x, -a, -2.*b/2, -c*2), up(up1, x, -a, -3.*b/2, -c*3)))\n",
    "        ),\n",
    "        linewidth=2, label='Atomic Function Compounding')\n",
    "\n",
    "pl.title('Atomic Function Compounding represent Straight Line')\n",
    "# pl.legend(loc='best', numpoints=1)\n",
    "pl.grid(True)\n",
    "pl.show()"
   ]
  },
  {
   "cell_type": "code",
   "execution_count": null,
   "metadata": {},
   "outputs": [],
   "source": [
    "x = np.arange(-3.0, 3.0, 0.01)\n",
    "width = 1.\n",
    "height = 1.\n",
    "pl.plot(x, String(AString1, x, width, -1*width, height), linewidth=1, label='Atomic String at x=-1')\n",
    "pl.plot(x, String(AString1, x, width, +0*width, height), linewidth=1, label='Atomic String at x=0')\n",
    "pl.plot(x, String(AString1, x, width, +1*width, height), linewidth=1, label='Atomic String at x=-1')\n",
    "pl.plot(x, Sum(String(AString1, x, width, -1.0*width, height), \n",
    "           Sum(String(AString1, x, width, 0*width, height), String(AString1, x, width, 1.0*width, height))), \n",
    "           linewidth=2, label='Atomic Strings Compounding')\n",
    "pl.title('Atomic Strings Compounding represent x')\n",
    "pl.legend(loc='best', numpoints=1)\n",
    "pl.grid(True)\n",
    "pl.show()"
   ]
  },
  {
   "cell_type": "code",
   "execution_count": null,
   "metadata": {},
   "outputs": [],
   "source": []
  }
 ],
 "metadata": {
  "kernelspec": {
   "display_name": "Python 3",
   "language": "python",
   "name": "python3"
  },
  "language_info": {
   "codemirror_mode": {
    "name": "ipython",
    "version": 3
   },
   "file_extension": ".py",
   "mimetype": "text/x-python",
   "name": "python",
   "nbconvert_exporter": "python",
   "pygments_lexer": "ipython3",
   "version": "3.7.6"
  }
 },
 "nbformat": 4,
 "nbformat_minor": 2
}
